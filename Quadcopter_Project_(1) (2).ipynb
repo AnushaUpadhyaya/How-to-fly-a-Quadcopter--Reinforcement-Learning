{
  "nbformat": 4,
  "nbformat_minor": 0,
  "metadata": {
    "colab": {
      "name": "Quadcopter_Project (1).ipynb",
      "version": "0.3.2",
      "views": {},
      "default_view": {},
      "provenance": [],
      "collapsed_sections": [],
      "toc_visible": true
    },
    "kernelspec": {
      "display_name": "Python 3",
      "language": "python",
      "name": "python3"
    }
  },
  "cells": [
    {
      "metadata": {
        "id": "szfVMPeVM4BP",
        "colab_type": "text"
      },
      "cell_type": "markdown",
      "source": [
        "# Project: Train a Quadcopter How to Fly\n",
        "\n",
        "Design an agent to fly a quadcopter, and then train it using a reinforcement learning algorithm of your choice! \n",
        "\n",
        "Try to apply the techniques you have learnt, but also feel free to come up with innovative ideas and test them."
      ]
    },
    {
      "metadata": {
        "id": "-jNh7ixWM-sT",
        "colab_type": "code",
        "colab": {
          "autoexec": {
            "startup": false,
            "wait_interval": 0
          },
          "base_uri": "https://localhost:8080/",
          "height": 344
        },
        "outputId": "66ace12b-abd6-4ea4-ed84-d6c35f3aacd6",
        "executionInfo": {
          "status": "ok",
          "timestamp": 1530636218122,
          "user_tz": 240,
          "elapsed": 24101,
          "user": {
            "displayName": "Anusha Upadhyaya",
            "photoUrl": "https://lh3.googleusercontent.com/a/default-user=s128",
            "userId": "113208651844280089352"
          }
        }
      },
      "cell_type": "code",
      "source": [
        "from google.colab import files\n",
        "\n",
        "uploaded = files.upload()\n",
        "\n",
        "for fn in uploaded.keys():\n",
        "  print('User uploaded file \"{name}\" with length {length} bytes'.format(\n",
        "      name=fn, length=len(uploaded[fn])))"
      ],
      "execution_count": 1,
      "outputs": [
        {
          "output_type": "display_data",
          "data": {
            "text/html": [
              "\n",
              "     <input type=\"file\" id=\"files-a5c1b37c-6016-4bd6-94bb-3f40f6d164e3\" name=\"files[]\" multiple disabled />\n",
              "     <output id=\"result-a5c1b37c-6016-4bd6-94bb-3f40f6d164e3\">\n",
              "      Upload widget is only available when the cell has been executed in the\n",
              "      current browser session. Please rerun this cell to enable.\n",
              "      </output>\n",
              "      <script src=\"/nbextensions/google.colab/files.js\"></script> "
            ],
            "text/plain": [
              "<IPython.core.display.HTML object>"
            ]
          },
          "metadata": {
            "tags": []
          }
        },
        {
          "output_type": "stream",
          "text": [
            "Saving actor.py to actor.py\n",
            "Saving agent2.py to agent2.py\n",
            "Saving critic1.py to critic1.py\n",
            "Saving physics_sim.py to physics_sim.py\n",
            "Saving policy_search1.py to policy_search1.py\n",
            "Saving task1.py to task1.py\n",
            "User uploaded file \"actor.py\" with length 2543 bytes\n",
            "User uploaded file \"agent2.py\" with length 6530 bytes\n",
            "User uploaded file \"critic1.py\" with length 2392 bytes\n",
            "User uploaded file \"physics_sim.py\" with length 6148 bytes\n",
            "User uploaded file \"policy_search1.py\" with length 1966 bytes\n",
            "User uploaded file \"task1.py\" with length 1978 bytes\n"
          ],
          "name": "stdout"
        }
      ]
    },
    {
      "metadata": {
        "id": "V4EhujgxNNm1",
        "colab_type": "code",
        "colab": {
          "autoexec": {
            "startup": false,
            "wait_interval": 0
          },
          "base_uri": "https://localhost:8080/",
          "height": 89
        },
        "outputId": "8b7929d7-584a-4eb3-e1e2-367e118dda63",
        "executionInfo": {
          "status": "ok",
          "timestamp": 1530568767636,
          "user_tz": 240,
          "elapsed": 7076,
          "user": {
            "displayName": "Anusha Upadhyaya",
            "photoUrl": "https://lh3.googleusercontent.com/a/default-user=s128",
            "userId": "113208651844280089352"
          }
        }
      },
      "cell_type": "code",
      "source": [
        "from google.colab import files\n",
        "\n",
        "uploaded = files.upload()\n",
        "\n",
        "for fn in uploaded.keys():\n",
        "  print('User uploaded file \"{name}\" with length {length} bytes'.format(\n",
        "      name=fn, length=len(uploaded[fn])))"
      ],
      "execution_count": 5,
      "outputs": [
        {
          "output_type": "display_data",
          "data": {
            "text/html": [
              "\n",
              "     <input type=\"file\" id=\"files-29e96938-8d67-43ca-8cfd-5a020ad167b2\" name=\"files[]\" multiple disabled />\n",
              "     <output id=\"result-29e96938-8d67-43ca-8cfd-5a020ad167b2\">\n",
              "      Upload widget is only available when the cell has been executed in the\n",
              "      current browser session. Please rerun this cell to enable.\n",
              "      </output>\n",
              "      <script src=\"/nbextensions/google.colab/files.js\"></script> "
            ],
            "text/plain": [
              "<IPython.core.display.HTML object>"
            ]
          },
          "metadata": {
            "tags": []
          }
        },
        {
          "output_type": "stream",
          "text": [
            "Saving policy_search1.py to policy_search1.py\n",
            "User uploaded file \"policy_search1.py\" with length 1966 bytes\n"
          ],
          "name": "stdout"
        }
      ]
    },
    {
      "metadata": {
        "id": "qDfTq9JSM4BU",
        "colab_type": "text"
      },
      "cell_type": "markdown",
      "source": [
        "## Instructions\n",
        "\n",
        "Take a look at the files in the directory to better understand the structure of the project. \n",
        "\n",
        "- `task.py`: Define your task (environment) in this file.\n",
        "- `agents/`: Folder containing reinforcement learning agents.\n",
        "    - `policy_search.py`: A sample agent has been provided here.\n",
        "    - `agent.py`: Develop your agent here.\n",
        "- `physics_sim.py`: This file contains the simulator for the quadcopter.  **DO NOT MODIFY THIS FILE**.\n",
        "\n",
        "For this project, you will define your own task in `task.py`.  Although we have provided a example task to get you started, you are encouraged to change it.  Later in this notebook, you will learn more about how to amend this file.\n",
        "\n",
        "You will also design a reinforcement learning agent in `agent.py` to complete your chosen task.  \n",
        "\n",
        "You are welcome to create any additional files to help you to organize your code.  For instance, you may find it useful to define a `model.py` file defining any needed neural network architectures.\n",
        "\n",
        "## Controlling the Quadcopter\n",
        "\n",
        "We provide a sample agent in the code cell below to show you how to use the sim to control the quadcopter.  This agent is even simpler than the sample agent that you'll examine (in `agents/policy_search.py`) later in this notebook!\n",
        "\n",
        "The agent controls the quadcopter by setting the revolutions per second on each of its four rotors.  The provided agent in the `Basic_Agent` class below always selects a random action for each of the four rotors.  These four speeds are returned by the `act` method as a list of four floating-point numbers.  \n",
        "\n",
        "For this project, the agent that you will implement in `agents/agent.py` will have a far more intelligent method for selecting actions!"
      ]
    },
    {
      "metadata": {
        "id": "HnUgtm_PM4BX",
        "colab_type": "code",
        "colab": {
          "autoexec": {
            "startup": false,
            "wait_interval": 0
          },
          "base_uri": "https://localhost:8080/",
          "height": 17
        },
        "outputId": "17f82551-88e4-424d-dd51-3873db1c9b11",
        "executionInfo": {
          "status": "ok",
          "timestamp": 1530636284874,
          "user_tz": 240,
          "elapsed": 251,
          "user": {
            "displayName": "Anusha Upadhyaya",
            "photoUrl": "https://lh3.googleusercontent.com/a/default-user=s128",
            "userId": "113208651844280089352"
          }
        }
      },
      "cell_type": "code",
      "source": [
        "import random\n",
        "import numpy as np\n",
        "\n",
        "np.random.seed(42)\n",
        "\n",
        "class Basic_Agent():\n",
        "    def __init__(self, task):\n",
        "        self.task = task\n",
        "    \n",
        "    def act(self):\n",
        "        new_thrust = random.gauss(450., 25.)\n",
        "        return [new_thrust + random.gauss(0., 1.) for x in range(4)]"
      ],
      "execution_count": 2,
      "outputs": []
    },
    {
      "metadata": {
        "id": "ZuMkTP6XM4Bl",
        "colab_type": "text"
      },
      "cell_type": "markdown",
      "source": [
        "Run the code cell below to have the agent select actions to control the quadcopter.  \n",
        "\n",
        "Feel free to change the provided values of `runtime`, `init_pose`, `init_velocities`, and `init_angle_velocities` below to change the starting conditions of the quadcopter.\n",
        "\n",
        "The `labels` list below annotates statistics that are saved while running the simulation.  All of this information is saved in a text file `data.txt` and stored in the dictionary `results`.  "
      ]
    },
    {
      "metadata": {
        "id": "okWdqY02M4Bn",
        "colab_type": "code",
        "colab": {
          "autoexec": {
            "startup": false,
            "wait_interval": 0
          },
          "base_uri": "https://localhost:8080/",
          "height": 34
        },
        "outputId": "731481c2-10bc-417a-e15a-9284d74c0935",
        "executionInfo": {
          "status": "ok",
          "timestamp": 1530636294089,
          "user_tz": 240,
          "elapsed": 480,
          "user": {
            "displayName": "Anusha Upadhyaya",
            "photoUrl": "https://lh3.googleusercontent.com/a/default-user=s128",
            "userId": "113208651844280089352"
          }
        }
      },
      "cell_type": "code",
      "source": [
        "%load_ext autoreload\n",
        "%autoreload 2\n",
        "\n",
        "import csv\n",
        "import numpy as np\n",
        "from task1 import Task\n",
        "from policy_search1 import PolicySearch_Agent\n",
        "\n",
        "# Modify the values below to give the quadcopter a different starting position.\n",
        "runtime = 8000.                                     # time limit of the episode\n",
        "init_pose = np.array([0., 0., 10., 0., 0., 0.])  # initial pose\n",
        "init_velocities = np.array([0., 0., 0.])         # initial velocities\n",
        "init_angle_velocities = np.array([0., 0., 0.])   # initial angle velocities\n",
        "file_output = 'data.txt'                         # file name for saved results\n",
        "\n",
        "# Setup\n",
        "task = Task(init_pose, init_velocities, init_angle_velocities, runtime)\n",
        "agent = PolicySearch_Agent(task)\n",
        "done = False\n",
        "labels = ['time', 'x', 'y', 'z', 'phi', 'theta', 'psi', 'x_velocity',\n",
        "          'y_velocity', 'z_velocity', 'phi_velocity', 'theta_velocity',\n",
        "          'psi_velocity', 'rotor_speed1', 'rotor_speed2', 'rotor_speed3', 'rotor_speed4']\n",
        "results = {x : [] for x in labels}\n",
        "\n",
        "# Run the simulation, and save the results.\n",
        "with open(file_output, 'w') as csvfile:\n",
        "    writer = csv.writer(csvfile)\n",
        "    writer.writerow(labels)\n",
        "    episode = agent.reset_episode()\n",
        "    reward = 0\n",
        "    while True:\n",
        "        rotor_speeds = agent.act(episode)\n",
        "        ne, rw, done = task.step(rotor_speeds)\n",
        "        to_write = [task.sim.time] + list(task.sim.pose) + list(task.sim.v) + list(task.sim.angular_v) + list(rotor_speeds)\n",
        "        for ii in range(len(labels)):\n",
        "            results[labels[ii]].append(to_write[ii])\n",
        "        writer.writerow(to_write)\n",
        "        reward = reward + rw\n",
        "        episode = ne\n",
        "        if done:\n",
        "            print(\"episode reward : {}\".format(reward))\n",
        "            reward = 0\n",
        "            break"
      ],
      "execution_count": 3,
      "outputs": [
        {
          "output_type": "stream",
          "text": [
            "episode reward : 185.02819371361934\n"
          ],
          "name": "stdout"
        }
      ]
    },
    {
      "metadata": {
        "id": "D94rFcxWM4B5",
        "colab_type": "text"
      },
      "cell_type": "markdown",
      "source": [
        "Run the code cell below to visualize how the position of the quadcopter evolved during the simulation."
      ]
    },
    {
      "metadata": {
        "id": "ah7-lEoyM4B8",
        "colab_type": "code",
        "colab": {
          "autoexec": {
            "startup": false,
            "wait_interval": 0
          },
          "base_uri": "https://localhost:8080/",
          "height": 265
        },
        "outputId": "318fb417-917c-45d2-b1ac-7b64cb579fc6",
        "executionInfo": {
          "status": "ok",
          "timestamp": 1530636301797,
          "user_tz": 240,
          "elapsed": 367,
          "user": {
            "displayName": "Anusha Upadhyaya",
            "photoUrl": "https://lh3.googleusercontent.com/a/default-user=s128",
            "userId": "113208651844280089352"
          }
        }
      },
      "cell_type": "code",
      "source": [
        "import matplotlib.pyplot as plt\n",
        "%matplotlib inline\n",
        "\n",
        "plt.plot(results['time'], results['x'], label='x')\n",
        "plt.plot(results['time'], results['y'], label='y')\n",
        "plt.plot(results['time'], results['z'], label='z')\n",
        "plt.legend()\n",
        "_ = plt.ylim()"
      ],
      "execution_count": 4,
      "outputs": [
        {
          "output_type": "display_data",
          "data": {
            "image/png": "[encoded data removed]",
            "text/plain": [
              "<matplotlib.figure.Figure at 0x7f696c9fbc88>"
            ]
          },
          "metadata": {
            "tags": []
          }
        }
      ]
    },
    {
      "metadata": {
        "id": "vya9mF36M4CI",
        "colab_type": "text"
      },
      "cell_type": "markdown",
      "source": [
        "The next code cell visualizes the velocity of the quadcopter."
      ]
    },
    {
      "metadata": {
        "id": "6FqcHqYPM4CL",
        "colab_type": "code",
        "colab": {
          "autoexec": {
            "startup": false,
            "wait_interval": 0
          },
          "base_uri": "https://localhost:8080/",
          "height": 265
        },
        "outputId": "74c2e98f-9bd9-47df-9f98-172405d11e3d",
        "executionInfo": {
          "status": "ok",
          "timestamp": 1530636306253,
          "user_tz": 240,
          "elapsed": 395,
          "user": {
            "displayName": "Anusha Upadhyaya",
            "photoUrl": "https://lh3.googleusercontent.com/a/default-user=s128",
            "userId": "113208651844280089352"
          }
        }
      },
      "cell_type": "code",
      "source": [
        "plt.plot(results['time'], results['x_velocity'], label='x_hat')\n",
        "plt.plot(results['time'], results['y_velocity'], label='y_hat')\n",
        "plt.plot(results['time'], results['z_velocity'], label='z_hat')\n",
        "plt.legend()\n",
        "_ = plt.ylim()"
      ],
      "execution_count": 5,
      "outputs": [
        {
          "output_type": "display_data",
          "data": {
            "image/png": "[encoded data removed]",
            "text/plain": [
              "<matplotlib.figure.Figure at 0x7f695e0ffb38>"
            ]
          },
          "metadata": {
            "tags": []
          }
        }
      ]
    },
    {
      "metadata": {
        "id": "fv62D4JPM4CU",
        "colab_type": "text"
      },
      "cell_type": "markdown",
      "source": [
        "Next, you can plot the Euler angles (the rotation of the quadcopter over the $x$-, $y$-, and $z$-axes),"
      ]
    },
    {
      "metadata": {
        "id": "BxeHOeFiM4CW",
        "colab_type": "code",
        "colab": {
          "autoexec": {
            "startup": false,
            "wait_interval": 0
          },
          "base_uri": "https://localhost:8080/",
          "height": 265
        },
        "outputId": "5419a3f8-9350-476c-a49e-8d5629d04fbb",
        "executionInfo": {
          "status": "ok",
          "timestamp": 1530636310925,
          "user_tz": 240,
          "elapsed": 408,
          "user": {
            "displayName": "Anusha Upadhyaya",
            "photoUrl": "https://lh3.googleusercontent.com/a/default-user=s128",
            "userId": "113208651844280089352"
          }
        }
      },
      "cell_type": "code",
      "source": [
        "plt.plot(results['time'], results['phi'], label='phi')\n",
        "plt.plot(results['time'], results['theta'], label='theta')\n",
        "plt.plot(results['time'], results['psi'], label='psi')\n",
        "plt.legend()\n",
        "_ = plt.ylim()"
      ],
      "execution_count": 6,
      "outputs": [
        {
          "output_type": "display_data",
          "data": {
            "image/png": "[encoded data removed]",
            "text/plain": [
              "<matplotlib.figure.Figure at 0x7f695bc062b0>"
            ]
          },
          "metadata": {
            "tags": []
          }
        }
      ]
    },
    {
      "metadata": {
        "id": "dbEAQUTuM4Cg",
        "colab_type": "text"
      },
      "cell_type": "markdown",
      "source": [
        "before plotting the velocities (in radians per second) corresponding to each of the Euler angles."
      ]
    },
    {
      "metadata": {
        "id": "banEZnWiM4Ch",
        "colab_type": "code",
        "colab": {
          "autoexec": {
            "startup": false,
            "wait_interval": 0
          },
          "base_uri": "https://localhost:8080/",
          "height": 265
        },
        "outputId": "2d6c992f-079b-4991-fc5a-f410e062072d",
        "executionInfo": {
          "status": "ok",
          "timestamp": 1530636315399,
          "user_tz": 240,
          "elapsed": 518,
          "user": {
            "displayName": "Anusha Upadhyaya",
            "photoUrl": "https://lh3.googleusercontent.com/a/default-user=s128",
            "userId": "113208651844280089352"
          }
        }
      },
      "cell_type": "code",
      "source": [
        "plt.plot(results['time'], results['phi_velocity'], label='phi_velocity')\n",
        "plt.plot(results['time'], results['theta_velocity'], label='theta_velocity')\n",
        "plt.plot(results['time'], results['psi_velocity'], label='psi_velocity')\n",
        "plt.legend()\n",
        "_ = plt.ylim()"
      ],
      "execution_count": 7,
      "outputs": [
        {
          "output_type": "display_data",
          "data": {
            "image/png": "[encoded data removed]",
            "text/plain": [
              "<matplotlib.figure.Figure at 0x7f695bc066a0>"
            ]
          },
          "metadata": {
            "tags": []
          }
        }
      ]
    },
    {
      "metadata": {
        "id": "tE2RKSfGM4Cp",
        "colab_type": "text"
      },
      "cell_type": "markdown",
      "source": [
        "Finally, you can use the code cell below to print the agent's choice of actions.  "
      ]
    },
    {
      "metadata": {
        "id": "WDWYSXYyM4Cr",
        "colab_type": "code",
        "colab": {
          "autoexec": {
            "startup": false,
            "wait_interval": 0
          },
          "base_uri": "https://localhost:8080/",
          "height": 266
        },
        "outputId": "b49a6f64-2f65-4fe8-96bc-592762e1d33e",
        "executionInfo": {
          "status": "ok",
          "timestamp": 1530636319910,
          "user_tz": 240,
          "elapsed": 586,
          "user": {
            "displayName": "Anusha Upadhyaya",
            "photoUrl": "https://lh3.googleusercontent.com/a/default-user=s128",
            "userId": "113208651844280089352"
          }
        }
      },
      "cell_type": "code",
      "source": [
        "plt.plot(results['time'], results['rotor_speed1'], label='Rotor 1 revolutions / second')\n",
        "plt.plot(results['time'], results['rotor_speed2'], label='Rotor 2 revolutions / second')\n",
        "plt.plot(results['time'], results['rotor_speed3'], label='Rotor 3 revolutions / second')\n",
        "plt.plot(results['time'], results['rotor_speed4'], label='Rotor 4 revolutions / second')\n",
        "plt.legend()\n",
        "_ = plt.ylim()"
      ],
      "execution_count": 8,
      "outputs": [
        {
          "output_type": "display_data",
          "data": {
            "image/png": "[encoded data removed]",
            "text/plain": [
              "<matplotlib.figure.Figure at 0x7f695de65a20>"
            ]
          },
          "metadata": {
            "tags": []
          }
        }
      ]
    },
    {
      "metadata": {
        "id": "LVnnOP5PM4Cy",
        "colab_type": "text"
      },
      "cell_type": "markdown",
      "source": [
        "When specifying a task, you will derive the environment state from the simulator.  Run the code cell below to print the values of the following variables at the end of the simulation:\n",
        "- `task.sim.pose` (the position of the quadcopter in ($x,y,z$) dimensions and the Euler angles),\n",
        "- `task.sim.v` (the velocity of the quadcopter in ($x,y,z$) dimensions), and\n",
        "- `task.sim.angular_v` (radians/second for each of the three Euler angles)."
      ]
    },
    {
      "metadata": {
        "id": "Rz0uTww-M4C0",
        "colab_type": "code",
        "colab": {
          "autoexec": {
            "startup": false,
            "wait_interval": 0
          },
          "base_uri": "https://localhost:8080/",
          "height": 68
        },
        "outputId": "86f2d21d-afde-4f20-e6f0-0c42d4b52adb",
        "executionInfo": {
          "status": "ok",
          "timestamp": 1530636325575,
          "user_tz": 240,
          "elapsed": 304,
          "user": {
            "displayName": "Anusha Upadhyaya",
            "photoUrl": "https://lh3.googleusercontent.com/a/default-user=s128",
            "userId": "113208651844280089352"
          }
        }
      },
      "cell_type": "code",
      "source": [
        "# the pose, velocity, and angular velocity of the quadcopter at the end of the episode\n",
        "print(task.sim.pose)\n",
        "print(task.sim.v)\n",
        "print(task.sim.angular_v)"
      ],
      "execution_count": 9,
      "outputs": [
        {
          "output_type": "stream",
          "text": [
            "[1.19831733 0.57490514 0.         0.75928426 1.96199079 0.        ]\n",
            "[  1.82941257   0.87824483 -12.87350703]\n",
            "[-3.14830817  5.21281345  0.        ]\n"
          ],
          "name": "stdout"
        }
      ]
    },
    {
      "metadata": {
        "id": "BkngZEbSM4C6",
        "colab_type": "text"
      },
      "cell_type": "markdown",
      "source": [
        "In the sample task in `task.py`, we use the 6-dimensional pose of the quadcopter to construct the state of the environment at each timestep.  However, when amending the task for your purposes, you are welcome to expand the size of the state vector by including the velocity information.  You can use any combination of the pose, velocity, and angular velocity - feel free to tinker here, and construct the state to suit your task.\n",
        "\n",
        "## The Task\n",
        "\n",
        "A sample task has been provided for you in `task.py`.  Open this file in a new window now. \n",
        "\n",
        "The `__init__()` method is used to initialize several variables that are needed to specify the task.  \n",
        "- The simulator is initialized as an instance of the `PhysicsSim` class (from `physics_sim.py`).  \n",
        "- Inspired by the methodology in the original DDPG paper, we make use of action repeats.  For each timestep of the agent, we step the simulation `action_repeats` timesteps.  If you are not familiar with action repeats, please read the **Results** section in [the DDPG paper](https://arxiv.org/abs/1509.02971).\n",
        "- We set the number of elements in the state vector.  For the sample task, we only work with the 6-dimensional pose information.  To set the size of the state (`state_size`), we must take action repeats into account.  \n",
        "- The environment will always have a 4-dimensional action space, with one entry for each rotor (`action_size=4`). You can set the minimum (`action_low`) and maximum (`action_high`) values of each entry here.\n",
        "- The sample task in this provided file is for the agent to reach a target position.  We specify that target position as a variable.\n",
        "\n",
        "The `reset()` method resets the simulator.  The agent should call this method every time the episode ends.  You can see an example of this in the code cell below.\n",
        "\n",
        "The `step()` method is perhaps the most important.  It accepts the agent's choice of action `rotor_speeds`, which is used to prepare the next state to pass on to the agent.  Then, the reward is computed from `get_reward()`.  The episode is considered done if the time limit has been exceeded, or the quadcopter has travelled outside of the bounds of the simulation.\n",
        "\n",
        "In the next section, you will learn how to test the performance of an agent on this task."
      ]
    },
    {
      "metadata": {
        "id": "KVBByCOiM4C8",
        "colab_type": "text"
      },
      "cell_type": "markdown",
      "source": [
        "## The Agent\n",
        "\n",
        "The sample agent given in `agents/policy_search.py` uses a very simplistic linear policy to directly compute the action vector as a dot product of the state vector and a matrix of weights. Then, it randomly perturbs the parameters by adding some Gaussian noise, to produce a different policy. Based on the average reward obtained in each episode (`score`), it keeps track of the best set of parameters found so far, how the score is changing, and accordingly tweaks a scaling factor to widen or tighten the noise.\n",
        "\n",
        "Run the code cell below to see how the agent performs on the sample task."
      ]
    },
    {
      "metadata": {
        "id": "rZptNsQjM4C8",
        "colab_type": "code",
        "colab": {
          "autoexec": {
            "startup": false,
            "wait_interval": 0
          },
          "base_uri": "https://localhost:8080/",
          "height": 34
        },
        "outputId": "b0282252-a2b2-4724-93df-a88a98fe34df",
        "executionInfo": {
          "status": "ok",
          "timestamp": 1530636366360,
          "user_tz": 240,
          "elapsed": 32608,
          "user": {
            "displayName": "Anusha Upadhyaya",
            "photoUrl": "https://lh3.googleusercontent.com/a/default-user=s128",
            "userId": "113208651844280089352"
          }
        }
      },
      "cell_type": "code",
      "source": [
        "import sys\n",
        "import pandas as pd\n",
        "from policy_search1 import PolicySearch_Agent\n",
        "from task1 import Task\n",
        "\n",
        "num_episodes = 1000\n",
        "target_pos = np.array([0., 0., 10.])\n",
        "task = Task(target_pos=target_pos)\n",
        "agent = PolicySearch_Agent(task) \n",
        "\n",
        "for i_episode in range(1, num_episodes+1):\n",
        "    state = agent.reset_episode() # start a new episode\n",
        "    while True:\n",
        "        action = agent.act(state) \n",
        "        next_state, reward, done = task.step(action)\n",
        "        agent.step(reward, done)\n",
        "        state = next_state\n",
        "        if done:\n",
        "            print(\"\\rEpisode = {:4d}, score = {:7.3f} (best = {:7.3f}), noise_scale = {}\".format(\n",
        "                i_episode, agent.score, agent.best_score, agent.noise_scale), end=\"\")  # [debug]\n",
        "            break\n",
        "    sys.stdout.flush()"
      ],
      "execution_count": 10,
      "outputs": [
        {
          "output_type": "stream",
          "text": [
            "Episode = 1000, score =   6.853 (best =   6.853), noise_scale = 3.2"
          ],
          "name": "stdout"
        }
      ]
    },
    {
      "metadata": {
        "id": "D2lfhCdQM4DF",
        "colab_type": "text"
      },
      "cell_type": "markdown",
      "source": [
        "This agent should perform very poorly on this task.  And that's where you come in!"
      ]
    },
    {
      "metadata": {
        "id": "_a3zN1LHM4DG",
        "colab_type": "text"
      },
      "cell_type": "markdown",
      "source": [
        "## Define the Task, Design the Agent, and Train Your Agent!\n",
        "\n",
        "Amend `task.py` to specify a task of your choosing.  If you're unsure what kind of task to specify, you may like to teach your quadcopter to takeoff, hover in place, land softly, or reach a target pose.  \n",
        "\n",
        "After specifying your task, use the sample agent in `agents/policy_search.py` as a template to define your own agent in `agents/agent.py`.  You can borrow whatever you need from the sample agent, including ideas on how you might modularize your code (using helper methods like `act()`, `learn()`, `reset_episode()`, etc.).\n",
        "\n",
        "Note that it is **highly unlikely** that the first agent and task that you specify will learn well.  You will likely have to tweak various hyperparameters and the reward function for your task until you arrive at reasonably good behavior.\n",
        "\n",
        "As you develop your agent, it's important to keep an eye on how it's performing. Use the code above as inspiration to build in a mechanism to log/save the total rewards obtained in each episode to file.  If the episode rewards are gradually increasing, this is an indication that your agent is learning."
      ]
    },
    {
      "metadata": {
        "id": "vvLtaN44M4DI",
        "colab_type": "code",
        "colab": {
          "autoexec": {
            "startup": false,
            "wait_interval": 0
          },
          "base_uri": "https://localhost:8080/",
          "height": 34
        },
        "outputId": "808933db-733f-4464-b997-ec5d97179a36",
        "executionInfo": {
          "status": "ok",
          "timestamp": 1530636478950,
          "user_tz": 240,
          "elapsed": 5326,
          "user": {
            "displayName": "Anusha Upadhyaya",
            "photoUrl": "https://lh3.googleusercontent.com/a/default-user=s128",
            "userId": "113208651844280089352"
          }
        }
      },
      "cell_type": "code",
      "source": [
        "## TODO: Train your agent here.\n",
        "import sys\n",
        "import pandas as pd\n",
        "from agent2 import DDPG\n",
        "from task1 import Task\n",
        "import csv\n",
        "\n",
        "num_episodes = 800\n",
        "target_pos = np.array([0., 0., 200.])\n",
        "task = Task(target_pos=target_pos)\n",
        "agent = DDPG(task) \n",
        "bad_score = 1000000\n",
        "good_score = -1000000.\n",
        "reward_file = \"reward.txt\"\n",
        "\n",
        "rl = ['episode', 'reward']\n",
        "results = {x : [] for x in rl}"
      ],
      "execution_count": 11,
      "outputs": [
        {
          "output_type": "stream",
          "text": [
            "Using TensorFlow backend.\n"
          ],
          "name": "stderr"
        }
      ]
    },
    {
      "metadata": {
        "id": "5D9yBTVIRaSo",
        "colab_type": "code",
        "colab": {
          "autoexec": {
            "startup": false,
            "wait_interval": 0
          },
          "base_uri": "https://localhost:8080/",
          "height": 34
        },
        "outputId": "8bccced5-8a04-446d-b87a-736357f43733",
        "executionInfo": {
          "status": "ok",
          "timestamp": 1530637068757,
          "user_tz": 240,
          "elapsed": 586248,
          "user": {
            "displayName": "Anusha Upadhyaya",
            "photoUrl": "https://lh3.googleusercontent.com/a/default-user=s128",
            "userId": "113208651844280089352"
          }
        }
      },
      "cell_type": "code",
      "source": [
        "for i_episode in range(1, num_episodes+1):\n",
        "    state = agent.reset_episode() # start a new episode\n",
        "    score = 0\n",
        "    while True:\n",
        "        action = agent.act(state) \n",
        "        next_state, reward, done = task.step(action)\n",
        "        agent.step(action, reward, next_state, done)\n",
        "        state = next_state\n",
        "        score += reward\n",
        "        good_score = max(good_score , score)\n",
        "        bad_score = min(bad_score , score)\n",
        "        if done:\n",
        "            print(\"\\rEpisode = {:4d}, score = {:7.3f} (good = {:7.3f} , bad = {:7.3f})\".format(\n",
        "               i_episode, score, good_score, bad_score), end=\"\")\n",
        "            break\n",
        "    results['episode'].append(i_episode)\n",
        "    results['reward'].append(score)\n",
        "    sys.stdout.flush()"
      ],
      "execution_count": 12,
      "outputs": [
        {
          "output_type": "stream",
          "text": [
            "Episode =  800, score = 162.651 (good = 571.390 , bad =   6.779)"
          ],
          "name": "stdout"
        }
      ]
    },
    {
      "metadata": {
        "id": "VJMOMiq6M4DO",
        "colab_type": "text"
      },
      "cell_type": "markdown",
      "source": [
        "## Plot the Rewards\n",
        "\n",
        "Once you are satisfied with your performance, plot the episode rewards, either from a single run, or averaged over multiple runs. "
      ]
    },
    {
      "metadata": {
        "id": "psWjf54XM4DQ",
        "colab_type": "code",
        "colab": {
          "autoexec": {
            "startup": false,
            "wait_interval": 0
          },
          "base_uri": "https://localhost:8080/",
          "height": 265
        },
        "outputId": "c7218a5c-00b8-4643-fe2d-3a67d6920e8b",
        "executionInfo": {
          "status": "ok",
          "timestamp": 1530637078742,
          "user_tz": 240,
          "elapsed": 518,
          "user": {
            "displayName": "Anusha Upadhyaya",
            "photoUrl": "https://lh3.googleusercontent.com/a/default-user=s128",
            "userId": "113208651844280089352"
          }
        }
      },
      "cell_type": "code",
      "source": [
        "## TODO: Plot the rewards.\n",
        "import matplotlib.pyplot as plt\n",
        "%matplotlib inline\n",
        "\n",
        "plt.plot(results['episode'], results['reward'], label='reward/episode')\n",
        "plt.legend()\n",
        "_ = plt.ylim()"
      ],
      "execution_count": 13,
      "outputs": [
        {
          "output_type": "display_data",
          "data": {
            "image/png": "[encoded data removed]",
            "text/plain": [
              "<matplotlib.figure.Figure at 0x7f695dde10b8>"
            ]
          },
          "metadata": {
            "tags": []
          }
        }
      ]
    },
    {
      "metadata": {
        "id": "Mv1xYdfVF3Uj",
        "colab_type": "code",
        "colab": {
          "autoexec": {
            "startup": false,
            "wait_interval": 0
          },
          "base_uri": "https://localhost:8080/",
          "height": 34
        },
        "outputId": "5a64d04e-2bca-4f39-f04f-b7f14a6d2d03",
        "executionInfo": {
          "status": "ok",
          "timestamp": 1530637314923,
          "user_tz": 240,
          "elapsed": 249,
          "user": {
            "displayName": "Anusha Upadhyaya",
            "photoUrl": "https://lh3.googleusercontent.com/a/default-user=s128",
            "userId": "113208651844280089352"
          }
        }
      },
      "cell_type": "code",
      "source": [
        "print(\"Mean Reward over last 10 episodes: {}\".format(np.sum(results['reward'][-10:])/10))"
      ],
      "execution_count": 14,
      "outputs": [
        {
          "output_type": "stream",
          "text": [
            "Mean Reward over last 10 episodes: 249.34544828501598\n"
          ],
          "name": "stdout"
        }
      ]
    },
    {
      "metadata": {
        "id": "LTobQeMBM4DT",
        "colab_type": "text"
      },
      "cell_type": "markdown",
      "source": [
        "## Reflections\n",
        "\n",
        "**Question 1**: Describe the task that you specified in `task.py`.  How did you design the reward function?\n",
        "\n",
        "**Answer**:Initially I didn't used any function like tanh and used the default values which was given in the task.py. i.e. difference between sim.pose and target.pose. This gave me negative rewards and later on thought of using non linear tanh function. In the get_reward definition of task.py tanh function has been used. reward = np.tanh(1 - 0.0003*(abs(self.sim.pose[:3] - self.target_pos))).sum()"
      ]
    },
    {
      "metadata": {
        "id": "49FwV_IIM4DU",
        "colab_type": "text"
      },
      "cell_type": "markdown",
      "source": [
        "**Question 2**: Discuss your agent briefly, using the following questions as a guide:\n",
        "\n",
        "- What learning algorithm(s) did you try? What worked best for you?\n",
        "- What was your final choice of hyperparameters (such as $\\alpha$, $\\gamma$, $\\epsilon$, etc.)?\n",
        "- What neural network architecture did you use (if any)? Specify layers, sizes, activation functions, etc.\n",
        "\n",
        "**Answer**: DDPG algorithm is used which is one of the good algorithm for continuous action space. The final hyperparameter choice was learning rate for actor and critic is 0.001. mu = 0, theta = 0.15, sigma = 0.3, buffer_size = 1000000, btch_size = 64, gamma = 0.99, tau = 0.001 The architecture used for actor is:\n",
        "Dense(units=128,kernel_regularizer=layers.regularizers.l2(1e-6) followed by batch normalization and relu activation function also anothe dense layer with 256 units. The architecture used for critic is Dense(units=128,kernel_regularizer=layers.regularizers.l2(1e-3) followed by another dense layer with 256 units."
      ]
    },
    {
      "metadata": {
        "id": "tnUiRPzyM4DV",
        "colab_type": "text"
      },
      "cell_type": "markdown",
      "source": [
        "**Question 3**: Using the episode rewards plot, discuss how the agent learned over time.\n",
        "\n",
        "- Was it an easy task to learn or hard?\n",
        "- Was there a gradual learning curve, or an aha moment?\n",
        "- How good was the final performance of the agent? (e.g. mean rewards over the last 10 episodes)\n",
        "\n",
        "**Answer**: Initially the performance was good but gradually it became consistent. The mean reward of last 10 episodes is 249. 3454"
      ]
    },
    {
      "metadata": {
        "id": "X1zMybn5M4DV",
        "colab_type": "text"
      },
      "cell_type": "markdown",
      "source": [
        "**Question 4**: Briefly summarize your experience working on this project. You can use the following prompts for ideas.\n",
        "\n",
        "- What was the hardest part of the project? (e.g. getting started, plotting, specifying the task, etc.)\n",
        "- Did you find anything interesting in how the quadcopter or your agent behaved?\n",
        "\n",
        "**Answer**: This is one of the toughest project when compared to other projects. I tried hard to learn the concepts and start with the project. Initially I got very bad reward points and later on with some modifications I ended up with some better points. I would like to say it was a challenging project for me and tried my best to learn the concepts and apply it on project."
      ]
    }
  ]
}